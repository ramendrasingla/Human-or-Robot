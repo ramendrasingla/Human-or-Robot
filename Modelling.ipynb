{
 "cells": [
  {
   "cell_type": "code",
   "execution_count": 54,
   "metadata": {
    "colab": {
     "base_uri": "https://localhost:8080/"
    },
    "executionInfo": {
     "elapsed": 1017,
     "status": "ok",
     "timestamp": 1615121182454,
     "user": {
      "displayName": "Ramendra Singla",
      "photoUrl": "https://lh3.googleusercontent.com/a-/AOh14GhzTdWHHTkkDu2ozZcLFk-p9nItwAF-ke7j8P3O=s64",
      "userId": "05780754628352136133"
     },
     "user_tz": -330
    },
    "id": "i0HNsepba2N7",
    "outputId": "8df0452c-8ee5-4789-a346-501e247982da"
   },
   "outputs": [
    {
     "name": "stdout",
     "output_type": "stream",
     "text": [
      "Drive already mounted at /content/gdrive; to attempt to forcibly remount, call drive.mount(\"/content/gdrive\", force_remount=True).\n",
      "/content/gdrive/My Drive/self_case_study_1\n"
     ]
    }
   ],
   "source": [
    "from google.colab import drive\n",
    "drive.mount('/content/gdrive')\n",
    "\n",
    "%cd '/content/gdrive/My Drive/self_case_study_1'\n",
    "import warnings\n",
    "import numpy as np\n",
    "import pandas as pd\n",
    "import pickle as pkl\n",
    "import seaborn as sns\n",
    "from scipy import interp\n",
    "import matplotlib.pyplot as plt\n",
    "from sklearn import preprocessing\n",
    "from sklearn.decomposition import PCA\n",
    "from sklearn.feature_selection import RFE\n",
    "from sklearn.metrics import roc_curve, auc\n",
    "from sklearn.model_selection import GridSearchCV, train_test_split, StratifiedKFold\n",
    "\n",
    "\n",
    "from xgboost import XGBClassifier as xgb\n",
    "from sklearn.tree import DecisionTreeClassifier\n",
    "from sklearn.linear_model import LogisticRegression\n",
    "from sklearn.ensemble import RandomForestClassifier, AdaBoostClassifier\n",
    "\n",
    "warnings.filterwarnings('ignore')"
   ]
  },
  {
   "cell_type": "code",
   "execution_count": 67,
   "metadata": {
    "executionInfo": {
     "elapsed": 997,
     "status": "ok",
     "timestamp": 1615122165971,
     "user": {
      "displayName": "Ramendra Singla",
      "photoUrl": "https://lh3.googleusercontent.com/a-/AOh14GhzTdWHHTkkDu2ozZcLFk-p9nItwAF-ke7j8P3O=s64",
      "userId": "05780754628352136133"
     },
     "user_tz": -330
    },
    "id": "K2h9VLtOBLew"
   },
   "outputs": [],
   "source": [
    "train = pd.read_csv('train.csv')\n",
    "test = pd.read_csv('test.csv')\n",
    "feature_set = pd.read_pickle('feature_set.pkl')\n",
    "\n",
    "train_data = feature_set.merge(train,on = 'bidder_id',how = 'right').fillna(0).drop(['bidder_id','payment_account','address'],axis=1)\n",
    "test_data = feature_set.merge(test,on = 'bidder_id',how = 'right').fillna(0).drop(['payment_account','address'],axis=1)\n",
    "\n",
    "X = train_data.drop('outcome',axis=1)\n",
    "y = train_data['outcome']\n",
    "selected_cols = X.columns\n",
    "X = np.array(X)\n",
    "y = np.array(y)"
   ]
  },
  {
   "cell_type": "code",
   "execution_count": 76,
   "metadata": {
    "executionInfo": {
     "elapsed": 964,
     "status": "ok",
     "timestamp": 1615123612987,
     "user": {
      "displayName": "Ramendra Singla",
      "photoUrl": "https://lh3.googleusercontent.com/a-/AOh14GhzTdWHHTkkDu2ozZcLFk-p9nItwAF-ke7j8P3O=s64",
      "userId": "05780754628352136133"
     },
     "user_tz": -330
    },
    "id": "XQ3ooOnX3iop"
   },
   "outputs": [],
   "source": [
    "if 'bidder_id' in selected_cols:\n",
    "  print('yes')"
   ]
  },
  {
   "cell_type": "markdown",
   "metadata": {
    "id": "8SPuwz3LXDKe"
   },
   "source": [
    "# Modelling\n"
   ]
  },
  {
   "cell_type": "markdown",
   "metadata": {
    "id": "S5XQ7677nzS4"
   },
   "source": [
    "## Logisitic Regression"
   ]
  },
  {
   "cell_type": "code",
   "execution_count": 38,
   "metadata": {
    "colab": {
     "base_uri": "https://localhost:8080/"
    },
    "executionInfo": {
     "elapsed": 4086,
     "status": "ok",
     "timestamp": 1615117500797,
     "user": {
      "displayName": "Ramendra Singla",
      "photoUrl": "https://lh3.googleusercontent.com/a-/AOh14GhzTdWHHTkkDu2ozZcLFk-p9nItwAF-ke7j8P3O=s64",
      "userId": "05780754628352136133"
     },
     "user_tz": -330
    },
    "id": "MFZq-ewZnzS_",
    "outputId": "8ca71f4b-6ac3-475c-8fbb-855734a939cc"
   },
   "outputs": [
    {
     "name": "stdout",
     "output_type": "stream",
     "text": [
      "Fitting 5 folds for each of 24 candidates, totalling 120 fits\n"
     ]
    },
    {
     "name": "stderr",
     "output_type": "stream",
     "text": [
      "[Parallel(n_jobs=-1)]: Using backend LokyBackend with 4 concurrent workers.\n",
      "[Parallel(n_jobs=-1)]: Batch computation too fast (0.1212s.) Setting batch_size=2.\n",
      "[Parallel(n_jobs=-1)]: Done   5 tasks      | elapsed:    0.2s\n",
      "[Parallel(n_jobs=-1)]: Done  12 tasks      | elapsed:    0.5s\n",
      "[Parallel(n_jobs=-1)]: Done  26 tasks      | elapsed:    1.0s\n",
      "[Parallel(n_jobs=-1)]: Done  40 tasks      | elapsed:    1.4s\n",
      "[Parallel(n_jobs=-1)]: Done  58 tasks      | elapsed:    1.9s\n",
      "[Parallel(n_jobs=-1)]: Done  76 tasks      | elapsed:    2.4s\n",
      "[Parallel(n_jobs=-1)]: Done  98 tasks      | elapsed:    2.9s\n"
     ]
    },
    {
     "name": "stdout",
     "output_type": "stream",
     "text": [
      "****************************************************************************************************\n",
      "\n",
      "The best hyperparamters:\n",
      "{'C': 0.0001, 'class_weight': {1: 0.95, 0: 0.05}}\n",
      "****************************************************************************************************\n"
     ]
    },
    {
     "name": "stderr",
     "output_type": "stream",
     "text": [
      "[Parallel(n_jobs=-1)]: Done 120 out of 120 | elapsed:    3.2s finished\n"
     ]
    }
   ],
   "source": [
    "model = LogisticRegression()\n",
    "\n",
    "parameters = {'C':[1,1e-1,1e-2,1e-3,1e-4,1e-5,1e-6,1e-7],'class_weight':[{1:0.95,0:0.05},{1:0.90,0:0.10},{1:0.8,0:0.2}]}\n",
    "clf = GridSearchCV(model, parameters, cv=5, scoring='roc_auc',n_jobs=-1, verbose=10)\n",
    "clf.fit(X, y)\n",
    "\n",
    "print('*'*100)\n",
    "print('')\n",
    "print(\"The best hyperparamters:\")\n",
    "print(clf.best_params_)\n",
    "print('*'*100)"
   ]
  },
  {
   "cell_type": "code",
   "execution_count": 39,
   "metadata": {
    "colab": {
     "base_uri": "https://localhost:8080/",
     "height": 295
    },
    "executionInfo": {
     "elapsed": 1737,
     "status": "ok",
     "timestamp": 1615117505376,
     "user": {
      "displayName": "Ramendra Singla",
      "photoUrl": "https://lh3.googleusercontent.com/a-/AOh14GhzTdWHHTkkDu2ozZcLFk-p9nItwAF-ke7j8P3O=s64",
      "userId": "05780754628352136133"
     },
     "user_tz": -330
    },
    "id": "0sJLCElfnzTB",
    "outputId": "dea7cbbe-ad68-4cc4-aec1-480dd3dfce56"
   },
   "outputs": [
    {
     "data": {
      "image/png": "[encoded data removed]",
      "text/plain": [
       "<Figure size 432x288 with 1 Axes>"
      ]
     },
     "metadata": {
      "needs_background": "light",
      "tags": []
     },
     "output_type": "display_data"
    }
   ],
   "source": [
    "cv = StratifiedKFold(n_splits=5)\n",
    "classifier = clf.best_estimator_\n",
    "\n",
    "mean_tpr = 0.0\n",
    "mean_fpr = np.linspace(0, 1, 100)\n",
    "all_tpr = []\n",
    "for i, (train_idx, test_idx) in enumerate(cv.split(X,y)):\n",
    "    classifier.fit(X[train_idx], y[train_idx])\n",
    "    prob = classifier.predict_proba(X[test_idx])[:,1]\n",
    "    fpr, tpr, thresholds = roc_curve(y[test_idx], prob)\n",
    "    mean_tpr += interp(mean_fpr, fpr, tpr)\n",
    "    mean_tpr[0] = 0.0\n",
    "    roc_auc = auc(fpr, tpr)\n",
    "    plt.plot(fpr, tpr, lw=1, label='ROC fold %d (area = %0.2f)' % (i, roc_auc))\n",
    "\n",
    "plt.plot([0, 1], [0, 1], '--', color=(0.6, 0.6, 0.6), label='Luck')\n",
    "\n",
    "mean_tpr /= 5\n",
    "mean_tpr[-1] = 1.0\n",
    "mean_auc = auc(mean_fpr, mean_tpr)\n",
    "plt.plot(mean_fpr, mean_tpr, 'k--',\n",
    "         label='Mean ROC (area = %0.2f)' % mean_auc, lw=2)\n",
    "\n",
    "plt.xlim([-0.05, 1.05])\n",
    "plt.ylim([-0.05, 1.05])\n",
    "plt.xlabel('False Positive Rate')\n",
    "plt.ylabel('True Positive Rate')\n",
    "plt.title('Receiver operating characteristic example')\n",
    "plt.legend(loc=\"lower right\")\n",
    "plt.show()"
   ]
  },
  {
   "cell_type": "code",
   "execution_count": 40,
   "metadata": {
    "executionInfo": {
     "elapsed": 1006,
     "status": "ok",
     "timestamp": 1615117519810,
     "user": {
      "displayName": "Ramendra Singla",
      "photoUrl": "https://lh3.googleusercontent.com/a-/AOh14GhzTdWHHTkkDu2ozZcLFk-p9nItwAF-ke7j8P3O=s64",
      "userId": "05780754628352136133"
     },
     "user_tz": -330
    },
    "id": "i0uuUkLbONQJ"
   },
   "outputs": [],
   "source": [
    "classifier = clf.best_estimator_\n",
    "classifier.fit(X,y)\n",
    "\n",
    "test_lr = test.copy()\n",
    "test_lr['prediction'] = classifier.predict_proba(test_data[selected_cols])[:,1]\n",
    "test_lr[['bidder_id','prediction']].to_csv('lr_submission.csv',index=False)"
   ]
  },
  {
   "cell_type": "markdown",
   "metadata": {
    "id": "gzIz90DlDMur"
   },
   "source": [
    "## Random Forest Classifier"
   ]
  },
  {
   "cell_type": "code",
   "execution_count": 47,
   "metadata": {
    "colab": {
     "base_uri": "https://localhost:8080/"
    },
    "executionInfo": {
     "elapsed": 934964,
     "status": "ok",
     "timestamp": 1615119362557,
     "user": {
      "displayName": "Ramendra Singla",
      "photoUrl": "https://lh3.googleusercontent.com/a-/AOh14GhzTdWHHTkkDu2ozZcLFk-p9nItwAF-ke7j8P3O=s64",
      "userId": "05780754628352136133"
     },
     "user_tz": -330
    },
    "id": "rY_b0qXxDMu2",
    "outputId": "aba5b934-83d2-483a-9358-3619460bbda3"
   },
   "outputs": [
    {
     "name": "stdout",
     "output_type": "stream",
     "text": [
      "Fitting 3 folds for each of 960 candidates, totalling 2880 fits\n"
     ]
    },
    {
     "name": "stderr",
     "output_type": "stream",
     "text": [
      "[Parallel(n_jobs=-1)]: Using backend LokyBackend with 4 concurrent workers.\n",
      "[Parallel(n_jobs=-1)]: Done  58 tasks      | elapsed:   14.0s\n",
      "[Parallel(n_jobs=-1)]: Done 208 tasks      | elapsed:   53.0s\n",
      "[Parallel(n_jobs=-1)]: Done 458 tasks      | elapsed:  2.0min\n",
      "[Parallel(n_jobs=-1)]: Done 808 tasks      | elapsed:  3.6min\n",
      "[Parallel(n_jobs=-1)]: Done 1258 tasks      | elapsed:  5.6min\n",
      "[Parallel(n_jobs=-1)]: Done 1808 tasks      | elapsed:  8.5min\n",
      "[Parallel(n_jobs=-1)]: Done 2458 tasks      | elapsed: 12.8min\n",
      "[Parallel(n_jobs=-1)]: Done 2880 out of 2880 | elapsed: 15.6min finished\n"
     ]
    },
    {
     "name": "stdout",
     "output_type": "stream",
     "text": [
      "****************************************************************************************************\n",
      "\n",
      "The best hyperparamters:\n",
      "{'bootstrap': True, 'class_weight': {1: 0.95, 0: 0.05}, 'max_depth': 10, 'max_features': 'auto', 'min_samples_leaf': 2, 'min_samples_split': 2, 'n_estimators': 50}\n",
      "****************************************************************************************************\n"
     ]
    }
   ],
   "source": [
    "model = RandomForestClassifier()\n",
    "\n",
    "parameters = {'bootstrap': [True, False],\n",
    "               'max_depth': [5,10,15,20],\n",
    "               'max_features': ['auto', 'sqrt'],\n",
    "               'min_samples_leaf': [1, 2, 4],\n",
    "               'min_samples_split': [2, 5, 10,40,80],\n",
    "               'n_estimators': [10,50,100,500],\n",
    "               'class_weight':[{1:0.95,0:0.05}]}\n",
    "              \n",
    "clf = GridSearchCV(model, parameters, cv=3, scoring='roc_auc',n_jobs=-1, verbose=1)\n",
    "clf.fit(X, y)\n",
    "\n",
    "print('*'*100)\n",
    "print('')\n",
    "print(\"The best hyperparamters:\")\n",
    "print(clf.best_params_)\n",
    "print('*'*100)"
   ]
  },
  {
   "cell_type": "code",
   "execution_count": 48,
   "metadata": {
    "colab": {
     "base_uri": "https://localhost:8080/",
     "height": 295
    },
    "executionInfo": {
     "elapsed": 2542,
     "status": "ok",
     "timestamp": 1615119825954,
     "user": {
      "displayName": "Ramendra Singla",
      "photoUrl": "https://lh3.googleusercontent.com/a-/AOh14GhzTdWHHTkkDu2ozZcLFk-p9nItwAF-ke7j8P3O=s64",
      "userId": "05780754628352136133"
     },
     "user_tz": -330
    },
    "id": "4DHO-4o9DMu4",
    "outputId": "16eb5c2c-e6fb-4696-b66e-5f3ddd3699c3"
   },
   "outputs": [
    {
     "data": {
      "image/png": "[encoded data removed]",
      "text/plain": [
       "<Figure size 432x288 with 1 Axes>"
      ]
     },
     "metadata": {
      "needs_background": "light",
      "tags": []
     },
     "output_type": "display_data"
    }
   ],
   "source": [
    "cv = StratifiedKFold(n_splits=5)\n",
    "classifier = clf.best_estimator_\n",
    "\n",
    "mean_tpr = 0.0\n",
    "mean_fpr = np.linspace(0, 1, 100)\n",
    "all_tpr = []\n",
    "for i, (train_idx, test_idx) in enumerate(cv.split(X,y)):\n",
    "    classifier.fit(X[train_idx], y[train_idx])\n",
    "    prob = classifier.predict_proba(X[test_idx])[:,1]\n",
    "    fpr, tpr, thresholds = roc_curve(y[test_idx], prob)\n",
    "    mean_tpr += interp(mean_fpr, fpr, tpr)\n",
    "    mean_tpr[0] = 0.0\n",
    "    roc_auc = auc(fpr, tpr)\n",
    "    plt.plot(fpr, tpr, lw=1, label='ROC fold %d (area = %0.2f)' % (i, roc_auc))\n",
    "\n",
    "plt.plot([0, 1], [0, 1], '--', color=(0.6, 0.6, 0.6), label='Luck')\n",
    "\n",
    "mean_tpr /= 5\n",
    "mean_tpr[-1] = 1.0\n",
    "mean_auc = auc(mean_fpr, mean_tpr)\n",
    "plt.plot(mean_fpr, mean_tpr, 'k--',\n",
    "         label='Mean ROC (area = %0.2f)' % mean_auc, lw=2)\n",
    "\n",
    "plt.xlim([-0.05, 1.05])\n",
    "plt.ylim([-0.05, 1.05])\n",
    "plt.xlabel('False Positive Rate')\n",
    "plt.ylabel('True Positive Rate')\n",
    "plt.title('Receiver operating characteristic example')\n",
    "plt.legend(loc=\"lower right\")\n",
    "plt.show()"
   ]
  },
  {
   "cell_type": "code",
   "execution_count": 49,
   "metadata": {
    "executionInfo": {
     "elapsed": 1042,
     "status": "ok",
     "timestamp": 1615119836142,
     "user": {
      "displayName": "Ramendra Singla",
      "photoUrl": "https://lh3.googleusercontent.com/a-/AOh14GhzTdWHHTkkDu2ozZcLFk-p9nItwAF-ke7j8P3O=s64",
      "userId": "05780754628352136133"
     },
     "user_tz": -330
    },
    "id": "jtyaCJuWSVYR"
   },
   "outputs": [],
   "source": [
    "classifier = clf.best_estimator_\n",
    "classifier.fit(X,y)\n",
    "\n",
    "test_rf = test.copy()\n",
    "test_rf['prediction'] = classifier.predict_proba(test_data[selected_cols])[:,1]\n",
    "test_rf[['bidder_id','prediction']].to_csv('rf_submission.csv',index=False)"
   ]
  },
  {
   "cell_type": "markdown",
   "metadata": {
    "id": "ZWJIuIt1dwhr"
   },
   "source": [
    "## XGBoost Classifier"
   ]
  },
  {
   "cell_type": "code",
   "execution_count": 71,
   "metadata": {
    "colab": {
     "base_uri": "https://localhost:8080/"
    },
    "executionInfo": {
     "elapsed": 576344,
     "status": "ok",
     "timestamp": 1615122942459,
     "user": {
      "displayName": "Ramendra Singla",
      "photoUrl": "https://lh3.googleusercontent.com/a-/AOh14GhzTdWHHTkkDu2ozZcLFk-p9nItwAF-ke7j8P3O=s64",
      "userId": "05780754628352136133"
     },
     "user_tz": -330
    },
    "id": "C-PcAWg1dQWt",
    "outputId": "3612cd9c-f160-4151-ff80-e015931c8e7d"
   },
   "outputs": [
    {
     "name": "stdout",
     "output_type": "stream",
     "text": [
      "Fitting 5 folds for each of 48 candidates, totalling 240 fits\n"
     ]
    },
    {
     "name": "stderr",
     "output_type": "stream",
     "text": [
      "[Parallel(n_jobs=-1)]: Using backend LokyBackend with 4 concurrent workers.\n",
      "[Parallel(n_jobs=-1)]: Done  42 tasks      | elapsed:  1.5min\n",
      "[Parallel(n_jobs=-1)]: Done 192 tasks      | elapsed:  7.1min\n",
      "[Parallel(n_jobs=-1)]: Done 240 out of 240 | elapsed:  9.2min finished\n"
     ]
    },
    {
     "name": "stdout",
     "output_type": "stream",
     "text": [
      "****************************************************************************************************\n",
      "\n",
      "The best hyperparamters:\n",
      "{'class_weight': {1: 0.95, 0: 0.05}, 'max_depth': 10, 'n_estimators': 500}\n",
      "****************************************************************************************************\n"
     ]
    }
   ],
   "source": [
    "model = xgb()\n",
    "\n",
    "parameters = {'max_depth':[5,10,15,20],'n_estimators':[10,50,100,500],'class_weight':[{1:0.95,0:0.05},{1:0.90,0:0.10},{1:0.8,0:0.2}]}\n",
    "clf = GridSearchCV(model, parameters, cv=5, scoring='roc_auc',n_jobs=-1, verbose=1)\n",
    "clf.fit(X, y) \n",
    "\n",
    "print('*'*100)\n",
    "print('')\n",
    "print(\"The best hyperparamters:\")\n",
    "print(clf.best_params_)\n",
    "print('*'*100)"
   ]
  },
  {
   "cell_type": "code",
   "execution_count": 58,
   "metadata": {
    "colab": {
     "base_uri": "https://localhost:8080/",
     "height": 295
    },
    "executionInfo": {
     "elapsed": 637017,
     "status": "ok",
     "timestamp": 1615121870547,
     "user": {
      "displayName": "Ramendra Singla",
      "photoUrl": "https://lh3.googleusercontent.com/a-/AOh14GhzTdWHHTkkDu2ozZcLFk-p9nItwAF-ke7j8P3O=s64",
      "userId": "05780754628352136133"
     },
     "user_tz": -330
    },
    "id": "lb69_SWUiu8u",
    "outputId": "2bc5f597-9610-4298-b1eb-2a5eb3e279f6"
   },
   "outputs": [
    {
     "data": {
      "image/png": "[encoded data removed]",
      "text/plain": [
       "<Figure size 432x288 with 1 Axes>"
      ]
     },
     "metadata": {
      "needs_background": "light",
      "tags": []
     },
     "output_type": "display_data"
    }
   ],
   "source": [
    "cv = StratifiedKFold(n_splits=5)\n",
    "classifier = clf.best_estimator_\n",
    "\n",
    "mean_tpr = 0.0\n",
    "mean_fpr = np.linspace(0, 1, 100)\n",
    "all_tpr = []\n",
    "for i, (train_idx, test_idx) in enumerate(cv.split(X,y)):\n",
    "    classifier.fit(X[train_idx], y[train_idx])\n",
    "    prob = classifier.predict_proba(X[test_idx])[:,1]\n",
    "    fpr, tpr, thresholds = roc_curve(y[test_idx], prob)\n",
    "    mean_tpr += interp(mean_fpr, fpr, tpr)\n",
    "    mean_tpr[0] = 0.0\n",
    "    roc_auc = auc(fpr, tpr)\n",
    "    plt.plot(fpr, tpr, lw=1, label='ROC fold %d (area = %0.2f)' % (i, roc_auc))\n",
    "\n",
    "plt.plot([0, 1], [0, 1], '--', color=(0.6, 0.6, 0.6), label='Luck')\n",
    "\n",
    "mean_tpr /= 5\n",
    "mean_tpr[-1] = 1.0\n",
    "mean_auc = auc(mean_fpr, mean_tpr)\n",
    "plt.plot(mean_fpr, mean_tpr, 'k--',\n",
    "         label='Mean ROC (area = %0.2f)' % mean_auc, lw=2)\n",
    "\n",
    "plt.xlim([-0.05, 1.05])\n",
    "plt.ylim([-0.05, 1.05])\n",
    "plt.xlabel('False Positive Rate')\n",
    "plt.ylabel('True Positive Rate')\n",
    "plt.title('Receiver operating characteristic example')\n",
    "plt.legend(loc=\"lower right\")\n",
    "plt.show()"
   ]
  },
  {
   "cell_type": "code",
   "execution_count": 81,
   "metadata": {
    "executionInfo": {
     "elapsed": 21578,
     "status": "ok",
     "timestamp": 1615123748912,
     "user": {
      "displayName": "Ramendra Singla",
      "photoUrl": "https://lh3.googleusercontent.com/a-/AOh14GhzTdWHHTkkDu2ozZcLFk-p9nItwAF-ke7j8P3O=s64",
      "userId": "05780754628352136133"
     },
     "user_tz": -330
    },
    "id": "D_3zDYskUYMR"
   },
   "outputs": [],
   "source": [
    "classifier = clf.best_estimator_\n",
    "classifier.fit(X,y)\n",
    "\n",
    "test_xgb = test.copy()\n",
    "test_xgb['prediction'] = classifier.predict_proba(np.array(test_data[selected_cols]))[:,1]\n",
    "test_xgb[['bidder_id','prediction']].to_csv('xgb_submission.csv',index=False)"
   ]
  },
  {
   "cell_type": "markdown",
   "metadata": {
    "id": "E8bsD3yFtZwO"
   },
   "source": [
    "## AdaBoost Classifier"
   ]
  },
  {
   "cell_type": "code",
   "execution_count": 94,
   "metadata": {
    "colab": {
     "base_uri": "https://localhost:8080/"
    },
    "executionInfo": {
     "elapsed": 170577,
     "status": "ok",
     "timestamp": 1615124452316,
     "user": {
      "displayName": "Ramendra Singla",
      "photoUrl": "https://lh3.googleusercontent.com/a-/AOh14GhzTdWHHTkkDu2ozZcLFk-p9nItwAF-ke7j8P3O=s64",
      "userId": "05780754628352136133"
     },
     "user_tz": -330
    },
    "id": "PnjS-hNYtcfN",
    "outputId": "2d76b786-6fcb-4d4b-fa76-8d36280079f5"
   },
   "outputs": [
    {
     "name": "stdout",
     "output_type": "stream",
     "text": [
      "Fitting 5 folds for each of 128 candidates, totalling 640 fits\n"
     ]
    },
    {
     "name": "stderr",
     "output_type": "stream",
     "text": [
      "[Parallel(n_jobs=-1)]: Using backend LokyBackend with 4 concurrent workers.\n",
      "[Parallel(n_jobs=-1)]: Done 128 tasks      | elapsed:   29.5s\n",
      "[Parallel(n_jobs=-1)]: Done 316 tasks      | elapsed:  1.3min\n",
      "[Parallel(n_jobs=-1)]: Done 640 out of 640 | elapsed:  2.8min finished\n"
     ]
    },
    {
     "name": "stdout",
     "output_type": "stream",
     "text": [
      "****************************************************************************************************\n",
      "\n",
      "The best hyperparamters:\n",
      "{'algorithm': 'SAMME', 'base_estimator': DecisionTreeClassifier(ccp_alpha=0.0, class_weight={0: 0.05, 1: 0.95},\n",
      "                       criterion='gini', max_depth=10, max_features='auto',\n",
      "                       max_leaf_nodes=None, min_impurity_decrease=0.0,\n",
      "                       min_impurity_split=None, min_samples_leaf=1,\n",
      "                       min_samples_split=2, min_weight_fraction_leaf=0.0,\n",
      "                       presort='deprecated', random_state=11, splitter='best'), 'learning_rate': 0.01, 'n_estimators': 500}\n",
      "****************************************************************************************************\n"
     ]
    }
   ],
   "source": [
    "model = AdaBoostClassifier()\n",
    "\n",
    "DTC1 = DecisionTreeClassifier(random_state = 11, max_features = \"auto\", class_weight = {1:0.95,0:0.05},max_depth = None)\n",
    "DTC2 = DecisionTreeClassifier(random_state = 11, max_features = \"auto\", class_weight = {1:0.95,0:0.05},max_depth = 5)\n",
    "DTC3 = DecisionTreeClassifier(random_state = 11, max_features = \"auto\", class_weight = {1:0.95,0:0.05},max_depth = 10)\n",
    "DTC4 = DecisionTreeClassifier(random_state = 11, max_features = \"auto\", class_weight = {1:0.95,0:0.05},max_depth = 20)\n",
    "parameters = {'n_estimators':[10,50,100,500],'learning_rate':[1e-2,1e-3,1e-4,1e-5],'base_estimator':[DTC1,DTC2,DTC3,DTC4],'algorithm':['SAMME','SAMME.R']}\n",
    "clf = GridSearchCV(model, parameters, cv=5, scoring='roc_auc',n_jobs=-1, verbose=1)\n",
    "clf.fit(X, y) \n",
    "\n",
    "print('*'*100)\n",
    "print('')\n",
    "print(\"The best hyperparamters:\")\n",
    "print(clf.best_params_)\n",
    "print('*'*100)"
   ]
  },
  {
   "cell_type": "code",
   "execution_count": 95,
   "metadata": {
    "colab": {
     "base_uri": "https://localhost:8080/",
     "height": 295
    },
    "executionInfo": {
     "elapsed": 3243,
     "status": "ok",
     "timestamp": 1615124460591,
     "user": {
      "displayName": "Ramendra Singla",
      "photoUrl": "https://lh3.googleusercontent.com/a-/AOh14GhzTdWHHTkkDu2ozZcLFk-p9nItwAF-ke7j8P3O=s64",
      "userId": "05780754628352136133"
     },
     "user_tz": -330
    },
    "id": "NJx8YP0MuO_q",
    "outputId": "5d07ec03-d746-4f29-b4fc-b7c7964e5a16"
   },
   "outputs": [
    {
     "data": {
      "image/png": "[encoded data removed]",
      "text/plain": [
       "<Figure size 432x288 with 1 Axes>"
      ]
     },
     "metadata": {
      "needs_background": "light",
      "tags": []
     },
     "output_type": "display_data"
    }
   ],
   "source": [
    "cv = StratifiedKFold(n_splits=5)\n",
    "classifier = clf.best_estimator_\n",
    "\n",
    "mean_tpr = 0.0\n",
    "mean_fpr = np.linspace(0, 1, 100)\n",
    "all_tpr = []\n",
    "for i, (train_idx, test_idx) in enumerate(cv.split(X,y)):\n",
    "    classifier.fit(X[train_idx], y[train_idx])\n",
    "    prob = classifier.predict_proba(X[test_idx])[:,1]\n",
    "    fpr, tpr, thresholds = roc_curve(y[test_idx], prob)\n",
    "    mean_tpr += interp(mean_fpr, fpr, tpr)\n",
    "    mean_tpr[0] = 0.0\n",
    "    roc_auc = auc(fpr, tpr)\n",
    "    plt.plot(fpr, tpr, lw=1, label='ROC fold %d (area = %0.2f)' % (i, roc_auc))\n",
    "\n",
    "plt.plot([0, 1], [0, 1], '--', color=(0.6, 0.6, 0.6), label='Luck')\n",
    "\n",
    "mean_tpr /= 5\n",
    "mean_tpr[-1] = 1.0\n",
    "mean_auc = auc(mean_fpr, mean_tpr)\n",
    "plt.plot(mean_fpr, mean_tpr, 'k--',\n",
    "         label='Mean ROC (area = %0.2f)' % mean_auc, lw=2)\n",
    "\n",
    "plt.xlim([-0.05, 1.05])\n",
    "plt.ylim([-0.05, 1.05])\n",
    "plt.xlabel('False Positive Rate')\n",
    "plt.ylabel('True Positive Rate')\n",
    "plt.title('Receiver operating characteristic example')\n",
    "plt.legend(loc=\"lower right\")\n",
    "plt.show()"
   ]
  },
  {
   "cell_type": "code",
   "execution_count": 96,
   "metadata": {
    "executionInfo": {
     "elapsed": 2651,
     "status": "ok",
     "timestamp": 1615124487503,
     "user": {
      "displayName": "Ramendra Singla",
      "photoUrl": "https://lh3.googleusercontent.com/a-/AOh14GhzTdWHHTkkDu2ozZcLFk-p9nItwAF-ke7j8P3O=s64",
      "userId": "05780754628352136133"
     },
     "user_tz": -330
    },
    "id": "OocJXrfnuPsF"
   },
   "outputs": [],
   "source": [
    "clf = clf.best_estimator_\n",
    "clf.fit(X,y)\n",
    "\n",
    "test_xgb = test.copy()\n",
    "test_xgb['prediction'] = clf.predict_proba(np.array(test_data[selected_cols]))[:,1]\n",
    "test_xgb[['bidder_id','prediction']].to_csv('adb_submission.csv',index=False)"
   ]
  }
 ],
 "metadata": {
  "colab": {
   "authorship_tag": "ABX9TyPUL70mDMYZemy8sXcJeNNy",
   "collapsed_sections": [],
   "machine_shape": "hm",
   "name": "Modelling.ipynb",
   "provenance": [],
   "toc_visible": true
  },
  "kernelspec": {
   "display_name": "Python 3",
   "language": "python",
   "name": "python3"
  },
  "language_info": {
   "codemirror_mode": {
    "name": "ipython",
    "version": 3
   },
   "file_extension": ".py",
   "mimetype": "text/x-python",
   "name": "python",
   "nbconvert_exporter": "python",
   "pygments_lexer": "ipython3",
   "version": "3.8.5"
  }
 },
 "nbformat": 4,
 "nbformat_minor": 1
}
